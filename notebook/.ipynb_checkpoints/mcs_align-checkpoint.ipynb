{
 "cells": [
  {
   "cell_type": "code",
   "execution_count": 1,
   "metadata": {},
   "outputs": [],
   "source": [
    "import py3Dmol\n",
    "import copy\n",
    "import itertools\n",
    "from rdkit import Chem\n",
    "from rdkit.Chem import rdFMCS\n",
    "from rdkit.Chem import Draw\n",
    "from rdkit.Chem.Draw import IPythonConsole\n",
    "from rdkit.Chem import AllChem\n",
    "from rdkit.Chem import rdBase\n",
    "from rdkit.Chem import rdMolAlign\n",
    "from rdkit.Chem import rdMolDescriptors\n",
    "from rdkit.Chem.EnumerateStereoisomers import EnumerateStereoisomers, StereoEnumerationOptions\n",
    "import numpy as np\n",
    "import itertools\n",
    "import os\n",
    "p = AllChem.ETKDGv2()\n",
    "p.randomSeed = 42\n",
    "p.verbose = False"
   ]
  },
  {
   "cell_type": "markdown",
   "metadata": {},
   "source": [
    "#based on \n",
    "https://iwatobipen.wordpress.com/2018/09/26/3d-alignment-function-of-rdkit-rdkit/ \n",
    "https://www.rdkit.org/UGM/2012/Ebejer_20110926_RDKit_1stUGM.pdf\n",
    "http://rdkit.blogspot.com/2019/01/more-on-constrained-embedding.html\n",
    "http://rdkit.blogspot.com/2013/12/using-allchemconstrainedembed.html"
   ]
  },
  {
   "cell_type": "code",
   "execution_count": 2,
   "metadata": {},
   "outputs": [],
   "source": [
    "def optimize_conformation(mol, addHs=True):\n",
    "    \"\"\"optimize conformation of molecule \n",
    "    mol: is rdkit molecule object\n",
    "    addHs: whether to add hydrogens or not\n",
    "    \"\"\"\n",
    "    if addHs:\n",
    "        mol = Chem.AddHs(mol)\n",
    "        \n",
    "    AllChem.EmbedMolecule(mol,randomSeed=42)\n",
    "    AllChem.MMFFOptimizeMolecule(mol) \n",
    "\n",
    "    return mol"
   ]
  },
  {
   "cell_type": "code",
   "execution_count": 3,
   "metadata": {},
   "outputs": [],
   "source": [
    "def get_mcs(mylist):\n",
    "    \"\"\"Get MCS of molecules in list, input should be a list\"\"\"\n",
    "    # calc MCS\n",
    "    res=rdFMCS.FindMCS(mylist,threshold=0.9, matchValences=True, ringMatchesRingOnly=True, completeRingsOnly=True)\n",
    "    p = Chem.MolFromSmarts(res.smartsString)    \n",
    "    # check if all ligands match the mcs\n",
    "    matchingMols = [x for x in mylist if x.HasSubstructMatch(p)]\n",
    "    if len(matchingMols) != len(mylist):\n",
    "        print('Warning: not all molecules contain the MCS')\n",
    "    core = AllChem.DeleteSubstructs(AllChem.ReplaceSidechains(Chem.RemoveHs(matchingMols[1]),p),Chem.MolFromSmiles('*'))\n",
    "    core.UpdatePropertyCache()\n",
    "\n",
    "    return core"
   ]
  },
  {
   "cell_type": "code",
   "execution_count": 4,
   "metadata": {},
   "outputs": [],
   "source": [
    "def align_conformers(ref, mol, core, addHs=True):\n",
    "    \"\"\"Align and score conformers of mol to reference, returns best pair\n",
    "    ref: is rdkit molecule of template / reference\n",
    "    mol: is rdkit molecule object\n",
    "    core: is MCS\"\"\"\n",
    "    # get indices of reference molecule’s atoms that match core\n",
    "    ref_match = ref.GetSubstructMatch(core)\n",
    "\n",
    "    if addHs:\n",
    "        mol = Chem.AddHs(mol)\n",
    "\n",
    "    # get mapping of attom id & it's 3d coords\n",
    "    mol_match = mol.GetSubstructMatch(core)\n",
    "    cmap = {mol_match[i]:ref.GetConformer().GetAtomPosition(ref_match[i]) for i in range(len(mol_match))}\n",
    "\n",
    "    #create multiple conformers with coordmap as restriction\n",
    "    AllChem.EmbedMultipleConfs(mol, 50, randomSeed=42, coordMap=cmap)\n",
    "\n",
    "    # align molecule to reference and keep best alignment\n",
    "    crippen_contribs = rdMolDescriptors._CalcCrippenContribs(mol)\n",
    "    crippen_ref = rdMolDescriptors._CalcCrippenContribs(ref)\n",
    "\n",
    "    tempscore = []\n",
    "    ids = []\n",
    "    for prb_cid in range(mol.GetNumConformers()):\n",
    "        crippenO3A = rdMolAlign.GetCrippenO3A(prbMol = mol, refMol = ref, prbCrippenContribs = crippen_contribs,\n",
    "                                            refCrippenContribs = crippen_ref, prbCid = prb_cid, refCid = 0)\n",
    "        crippenO3A.Align()\n",
    "        tempscore.append(crippenO3A.Score())\n",
    "        ids.append([prb_cid])\n",
    "    best = np.argmax(tempscore)\n",
    "    # select best isomer\n",
    "    best_mol = Chem.MolFromMolBlock(Chem.MolToMolBlock(mol, confId=int(ids[best][0])), removeHs=False)\n",
    "\n",
    "    return ref, best_mol"
   ]
  },
  {
   "cell_type": "code",
   "execution_count": 5,
   "metadata": {},
   "outputs": [],
   "source": [
    "def main(ref, intermediate):\n",
    "    \"\"\"Code for optimizing the conformation, generating conformers and aligning conformers to reference.\"\"\"\n",
    "\n",
    "    # get lowest energy conformation of template\n",
    " #   ref = optimize_conformation(ref, addHs=True)\n",
    "\n",
    "    # get MCS core\n",
    "    core = get_mcs([intermediate, ref])\n",
    "    # align to reference\n",
    "    ref, intermediate_new = align_conformers(ref, intermediate, core)\n",
    "\n",
    "    return ref, intermediate_new"
   ]
  },
  {
   "cell_type": "code",
   "execution_count": 10,
   "metadata": {},
   "outputs": [
    {
     "data": {
      "image/png": "[encoded data removed]",
      "text/plain": [
       "<rdkit.Chem.rdchem.Mol at 0x7f5b397e3640>"
      ]
     },
     "execution_count": 10,
     "metadata": {},
     "output_type": "execute_result"
    }
   ],
   "source": [
    "mol = Chem.rdmolfiles.MolFromPDBFile('/home/willem/projects/CCR2/Q/ligprep/ref.pdb')\n",
    "mol"
   ]
  },
  {
   "cell_type": "code",
   "execution_count": 13,
   "metadata": {},
   "outputs": [],
   "source": [
    "# load molecules\n",
    "sdf = False\n",
    "#ligands  = [m for m in Chem.SDMolSupplier('Reference_pantelis_1215_1.sdf')]\n",
    "ligands = Chem.rdmolfiles.MolFromPDBFile('/home/willem/projects/CCR2/Q/ligprep/ref.pdb')\n",
    "#intermediates = [m for m in Chem.SDMolSupplier('iso_molecules_part_2_1.sdf')]\n",
    "intermediatefile = '/home/willem/projects/CCR2/Q/ligprep/denovo/top21_generated_aligned_USE.sdf'\n",
    "intermediates = [m for m in Chem.SDMolSupplier(intermediatefile)]\n",
    "#ligand is your single reference ligand in sdf format. \n",
    "# Intermediates are the ligands that you would like to align to your reference ligand. \n",
    "\n",
    "for i, intermediate in enumerate(intermediates):\n",
    "    #if i != 0: continue\n",
    "    refdir = f'/home/willem/projects/CCR2/Q/ligprep/denovo/aligned_ligands'\n",
    "    os.makedirs(refdir, exist_ok = True)\n",
    "    # first entry in list of ligands is reference, second ligand from pair will be aligned to this\n",
    "    if type(ligands) == list:\n",
    "        ref = ligands[0]\n",
    "    else:\n",
    "        ref = ligands\n",
    "    \n",
    "    if mol.HasProp(\"_Name\") == 0:\n",
    "        ref.SetProp(\"_Name\",\"reference\")    \n",
    "    ref, intermediate = main(ref, intermediate)\n",
    "\n",
    "    # write to file\n",
    "    if sdf:\n",
    "\n",
    "        with Chem.SDWriter(f'{refdir}/{intermediate.GetProp(\"_Name\")}.sdf') as w:\n",
    "            intermediate.SetProp('_Name', intermediate.GetProp(\"_Name\"))\n",
    "            w.write(intermediate)    \n",
    "\n",
    "        with Chem.SDWriter(f'{refdir}/{ref.GetProp(\"_Name\")}.sdf') as w:\n",
    "            ref.SetProp('_Name', ref.GetProp(\"_Name\"))\n",
    "            w.write(ref)\n",
    "\n",
    "    with Chem.PDBWriter(f'{refdir}/{intermediate.GetProp(\"_Name\")}.pdb') as w:\n",
    "        w.write(intermediate)\n",
    "\n",
    "    with Chem.PDBWriter(f'{refdir}/{ref.GetProp(\"_Name\")}.pdb') as w:\n",
    "        w.write(ref)\n"
   ]
  },
  {
   "cell_type": "code",
   "execution_count": 12,
   "metadata": {},
   "outputs": [
    {
     "data": {
      "application/3dmoljs_load.v0": "<div id=\"3dmolviewer_16632275277965863\"  style=\"position: relative; width: 600px; height: 400px\">\n        <p id=\"3dmolwarning_16632275277965863\" style=\"background-color:#ffcccc;color:black\">You appear to be running in JupyterLab (or JavaScript failed to load for some other reason).  You need to install the 3dmol extension: <br>\n        <tt>jupyter labextension install jupyterlab_3dmol</tt></p>\n        </div>\n<script>\n\nvar loadScriptAsync = function(uri){\n  return new Promise((resolve, reject) => {\n    var tag = document.createElement('script');\n    tag.src = uri;\n    tag.async = true;\n    tag.onload = () => {\n      resolve();\n    };\n  var firstScriptTag = document.getElementsByTagName('script')[0];\n  firstScriptTag.parentNode.insertBefore(tag, firstScriptTag);\n});\n};\n\nif(typeof $3Dmolpromise === 'undefined') {\n$3Dmolpromise = null;\n  $3Dmolpromise = loadScriptAsync('https://cdn.jsdelivr.net/npm/3dmol@latest/build/3Dmol-min.min.js');\n}\n\nvar viewer_16632275277965863 = null;\nvar warn = document.getElementById(\"3dmolwarning_16632275277965863\");\nif(warn) {\n    warn.parentNode.removeChild(warn);\n}\n$3Dmolpromise.then(function() {\nviewer_16632275277965863 = $3Dmol.createViewer($(\"#3dmolviewer_16632275277965863\"),{backgroundColor:\"white\"});\nviewer_16632275277965863.zoomTo();\n\tviewer_16632275277965863.addModel(\"ligand_11\\n     RDKit          3D\\n\\n 36 39  0  0  1  0  0  0  0  0999 V2000\\n   24.5097   54.2553   31.7052 O   0  0  0  0  0  0  0  0  0  0  0  0\\n   25.0987   53.1451   31.6321 C   0  0  0  0  0  0  0  0  0  0  0  0\\n   24.8924   52.1569   32.5321 C   0  0  0  0  0  0  0  0  0  0  0  0\\n   23.9548   52.2756   33.6589 C   0  0  0  0  0  0  0  0  0  0  0  0\\n   22.5441   52.0371   33.1946 C   0  0  0  0  0  0  0  0  0  0  0  0\\n   22.2672   51.5548   31.9350 C   0  0  0  0  0  0  0  0  0  0  0  0\\n   20.9848   51.2836   31.5529 C   0  0  0  0  0  0  0  0  0  0  0  0\\n   19.9396   51.4908   32.4329 C   0  0  0  0  0  0  0  0  0  0  0  0\\n   18.1368   51.0913   31.9308 Br  0  0  0  0  0  0  0  0  0  0  0  0\\n   20.2172   51.9704   33.6809 C   0  0  0  0  0  0  0  0  0  0  0  0\\n   21.5053   52.2497   34.0823 C   0  0  0  0  0  0  0  0  0  0  0  0\\n   25.5775   50.9458   32.4009 C   0  0  0  0  0  0  0  0  0  0  0  0\\n   25.2848   49.8501   33.3584 C   0  0  0  0  0  0  0  0  0  0  0  0\\n   26.1652   49.4605   34.4911 C   0  0  0  0  0  0  0  0  0  0  0  0\\n   26.4443   48.7812   33.2055 C   0  0  0  0  0  0  0  0  0  0  0  0\\n   26.4137   50.8111   31.3811 N   0  0  0  0  0  0  0  0  0  0  0  0\\n   26.6215   51.8279   30.4694 C   0  0  0  0  0  0  0  0  0  0  0  0\\n   27.4200   51.8465   29.4007 N   0  0  0  0  0  0  0  0  0  0  0  0\\n   27.2650   53.0551   28.8388 C   0  0  0  0  0  0  0  0  0  0  0  0\\n   27.9053   53.5739   27.6451 N   0  0  0  0  0  0  0  0  0  0  0  0\\n   26.3741   53.7149   29.5996 N   0  0  0  0  0  0  0  0  0  0  0  0\\n   25.9722   52.9669   30.6060 N   0  0  0  0  0  0  0  0  0  0  0  0\\n   24.1603   51.5722   34.5065 H   0  0  0  0  0  0  0  0  0  0  0  0\\n   23.9829   53.3162   34.0390 H   0  0  0  0  0  0  0  0  0  0  0  0\\n   23.1067   51.4054   31.2700 H   0  0  0  0  0  0  0  0  0  0  0  0\\n   20.7639   50.9034   30.5546 H   0  0  0  0  0  0  0  0  0  0  0  0\\n   19.3811   52.1314   34.3717 H   0  0  0  0  0  0  0  0  0  0  0  0\\n   21.6929   52.6339   35.0964 H   0  0  0  0  0  0  0  0  0  0  0  0\\n   24.3144   49.3633   33.2157 H   0  0  0  0  0  0  0  0  0  0  0  0\\n   25.6727   48.8562   35.2718 H   0  0  0  0  0  0  0  0  0  0  0  0\\n   26.8789   50.1966   34.9135 H   0  0  0  0  0  0  0  0  0  0  0  0\\n   26.1548   47.7427   33.0387 H   0  0  0  0  0  0  0  0  0  0  0  0\\n   27.3772   49.0692   32.7046 H   0  0  0  0  0  0  0  0  0  0  0  0\\n   26.9511   49.9124   31.1790 H   0  0  0  0  0  0  0  0  0  0  0  0\\n   27.5776   54.4716   27.2584 H   0  0  0  0  0  0  0  0  0  0  0  0\\n   28.6594   53.0363   27.2099 H   0  0  0  0  0  0  0  0  0  0  0  0\\n  1  2  2  0\\n  2  3  1  0\\n  2 22  1  0\\n  3  4  1  0\\n  3 12  2  0\\n  4  5  1  0\\n  5  6  2  0\\n  5 11  1  0\\n  6  7  1  0\\n  7  8  2  0\\n  8  9  1  0\\n  8 10  1  0\\n 10 11  2  0\\n 12 13  1  0\\n 12 16  1  0\\n 13 14  1  0\\n 13 15  1  0\\n 14 15  1  0\\n 16 17  1  0\\n 17 18  2  0\\n 17 22  1  0\\n 18 19  1  0\\n 19 20  1  0\\n 19 21  2  0\\n 21 22  1  0\\n  4 23  1  0\\n  4 24  1  0\\n  6 25  1  0\\n  7 26  1  0\\n 10 27  1  0\\n 11 28  1  0\\n 13 29  1  0\\n 14 30  1  0\\n 14 31  1  0\\n 15 32  1  0\\n 15 33  1  0\\n 16 34  1  0\\n 20 35  1  0\\n 20 36  1  0\\nM  END\\n\",\"sdf\");\n\tviewer_16632275277965863.setStyle({\"stick\": {}});\n\tviewer_16632275277965863.render();\nviewer_16632275277965863.render();\n});\n</script>",
      "text/html": [
       "<div id=\"3dmolviewer_16632275277965863\"  style=\"position: relative; width: 600px; height: 400px\">\n",
       "        <p id=\"3dmolwarning_16632275277965863\" style=\"background-color:#ffcccc;color:black\">You appear to be running in JupyterLab (or JavaScript failed to load for some other reason).  You need to install the 3dmol extension: <br>\n",
       "        <tt>jupyter labextension install jupyterlab_3dmol</tt></p>\n",
       "        </div>\n",
       "<script>\n",
       "\n",
       "var loadScriptAsync = function(uri){\n",
       "  return new Promise((resolve, reject) => {\n",
       "    var tag = document.createElement('script');\n",
       "    tag.src = uri;\n",
       "    tag.async = true;\n",
       "    tag.onload = () => {\n",
       "      resolve();\n",
       "    };\n",
       "  var firstScriptTag = document.getElementsByTagName('script')[0];\n",
       "  firstScriptTag.parentNode.insertBefore(tag, firstScriptTag);\n",
       "});\n",
       "};\n",
       "\n",
       "if(typeof $3Dmolpromise === 'undefined') {\n",
       "$3Dmolpromise = null;\n",
       "  $3Dmolpromise = loadScriptAsync('https://cdn.jsdelivr.net/npm/3dmol@latest/build/3Dmol-min.min.js');\n",
       "}\n",
       "\n",
       "var viewer_16632275277965863 = null;\n",
       "var warn = document.getElementById(\"3dmolwarning_16632275277965863\");\n",
       "if(warn) {\n",
       "    warn.parentNode.removeChild(warn);\n",
       "}\n",
       "$3Dmolpromise.then(function() {\n",
       "viewer_16632275277965863 = $3Dmol.createViewer($(\"#3dmolviewer_16632275277965863\"),{backgroundColor:\"white\"});\n",
       "viewer_16632275277965863.zoomTo();\n",
       "\tviewer_16632275277965863.addModel(\"ligand_11\\n     RDKit          3D\\n\\n 36 39  0  0  1  0  0  0  0  0999 V2000\\n   24.5097   54.2553   31.7052 O   0  0  0  0  0  0  0  0  0  0  0  0\\n   25.0987   53.1451   31.6321 C   0  0  0  0  0  0  0  0  0  0  0  0\\n   24.8924   52.1569   32.5321 C   0  0  0  0  0  0  0  0  0  0  0  0\\n   23.9548   52.2756   33.6589 C   0  0  0  0  0  0  0  0  0  0  0  0\\n   22.5441   52.0371   33.1946 C   0  0  0  0  0  0  0  0  0  0  0  0\\n   22.2672   51.5548   31.9350 C   0  0  0  0  0  0  0  0  0  0  0  0\\n   20.9848   51.2836   31.5529 C   0  0  0  0  0  0  0  0  0  0  0  0\\n   19.9396   51.4908   32.4329 C   0  0  0  0  0  0  0  0  0  0  0  0\\n   18.1368   51.0913   31.9308 Br  0  0  0  0  0  0  0  0  0  0  0  0\\n   20.2172   51.9704   33.6809 C   0  0  0  0  0  0  0  0  0  0  0  0\\n   21.5053   52.2497   34.0823 C   0  0  0  0  0  0  0  0  0  0  0  0\\n   25.5775   50.9458   32.4009 C   0  0  0  0  0  0  0  0  0  0  0  0\\n   25.2848   49.8501   33.3584 C   0  0  0  0  0  0  0  0  0  0  0  0\\n   26.1652   49.4605   34.4911 C   0  0  0  0  0  0  0  0  0  0  0  0\\n   26.4443   48.7812   33.2055 C   0  0  0  0  0  0  0  0  0  0  0  0\\n   26.4137   50.8111   31.3811 N   0  0  0  0  0  0  0  0  0  0  0  0\\n   26.6215   51.8279   30.4694 C   0  0  0  0  0  0  0  0  0  0  0  0\\n   27.4200   51.8465   29.4007 N   0  0  0  0  0  0  0  0  0  0  0  0\\n   27.2650   53.0551   28.8388 C   0  0  0  0  0  0  0  0  0  0  0  0\\n   27.9053   53.5739   27.6451 N   0  0  0  0  0  0  0  0  0  0  0  0\\n   26.3741   53.7149   29.5996 N   0  0  0  0  0  0  0  0  0  0  0  0\\n   25.9722   52.9669   30.6060 N   0  0  0  0  0  0  0  0  0  0  0  0\\n   24.1603   51.5722   34.5065 H   0  0  0  0  0  0  0  0  0  0  0  0\\n   23.9829   53.3162   34.0390 H   0  0  0  0  0  0  0  0  0  0  0  0\\n   23.1067   51.4054   31.2700 H   0  0  0  0  0  0  0  0  0  0  0  0\\n   20.7639   50.9034   30.5546 H   0  0  0  0  0  0  0  0  0  0  0  0\\n   19.3811   52.1314   34.3717 H   0  0  0  0  0  0  0  0  0  0  0  0\\n   21.6929   52.6339   35.0964 H   0  0  0  0  0  0  0  0  0  0  0  0\\n   24.3144   49.3633   33.2157 H   0  0  0  0  0  0  0  0  0  0  0  0\\n   25.6727   48.8562   35.2718 H   0  0  0  0  0  0  0  0  0  0  0  0\\n   26.8789   50.1966   34.9135 H   0  0  0  0  0  0  0  0  0  0  0  0\\n   26.1548   47.7427   33.0387 H   0  0  0  0  0  0  0  0  0  0  0  0\\n   27.3772   49.0692   32.7046 H   0  0  0  0  0  0  0  0  0  0  0  0\\n   26.9511   49.9124   31.1790 H   0  0  0  0  0  0  0  0  0  0  0  0\\n   27.5776   54.4716   27.2584 H   0  0  0  0  0  0  0  0  0  0  0  0\\n   28.6594   53.0363   27.2099 H   0  0  0  0  0  0  0  0  0  0  0  0\\n  1  2  2  0\\n  2  3  1  0\\n  2 22  1  0\\n  3  4  1  0\\n  3 12  2  0\\n  4  5  1  0\\n  5  6  2  0\\n  5 11  1  0\\n  6  7  1  0\\n  7  8  2  0\\n  8  9  1  0\\n  8 10  1  0\\n 10 11  2  0\\n 12 13  1  0\\n 12 16  1  0\\n 13 14  1  0\\n 13 15  1  0\\n 14 15  1  0\\n 16 17  1  0\\n 17 18  2  0\\n 17 22  1  0\\n 18 19  1  0\\n 19 20  1  0\\n 19 21  2  0\\n 21 22  1  0\\n  4 23  1  0\\n  4 24  1  0\\n  6 25  1  0\\n  7 26  1  0\\n 10 27  1  0\\n 11 28  1  0\\n 13 29  1  0\\n 14 30  1  0\\n 14 31  1  0\\n 15 32  1  0\\n 15 33  1  0\\n 16 34  1  0\\n 20 35  1  0\\n 20 36  1  0\\nM  END\\n\",\"sdf\");\n",
       "\tviewer_16632275277965863.setStyle({\"stick\": {}});\n",
       "\tviewer_16632275277965863.render();\n",
       "viewer_16632275277965863.render();\n",
       "});\n",
       "</script>"
      ]
     },
     "metadata": {},
     "output_type": "display_data"
    },
    {
     "data": {
      "text/plain": [
       "<py3Dmol.view at 0x7f5b3980cb50>"
      ]
     },
     "execution_count": 12,
     "metadata": {},
     "output_type": "execute_result"
    }
   ],
   "source": [
    "p_crippen = py3Dmol.view(width=600, height=400)\n",
    "p_crippen.addModel(Chem.MolToMolBlock(intermediate), 'sdf')\n",
    "#p_crippen.addModel(Chem.MolToMolBlock(to_align), 'sdf')\n",
    "#p_crippen.addModel(Chem.MolToMolBlock(ref), 'sdf')\n",
    "p_crippen.setStyle({'stick':{}})\n",
    "p_crippen.render()"
   ]
  },
  {
   "cell_type": "code",
   "execution_count": null,
   "metadata": {},
   "outputs": [],
   "source": []
  }
 ],
 "metadata": {
  "kernelspec": {
   "display_name": "Python 3 (ipykernel)",
   "language": "python",
   "name": "python3"
  },
  "language_info": {
   "codemirror_mode": {
    "name": "ipython",
    "version": 3
   },
   "file_extension": ".py",
   "mimetype": "text/x-python",
   "name": "python",
   "nbconvert_exporter": "python",
   "pygments_lexer": "ipython3",
   "version": "3.9.5"
  },
  "vscode": {
   "interpreter": {
    "hash": "fddc89d27ee4b0efc1aeb603edc6be68ba9d212de77cb60ca6506ade510a605b"
   }
  }
 },
 "nbformat": 4,
 "nbformat_minor": 4
}
