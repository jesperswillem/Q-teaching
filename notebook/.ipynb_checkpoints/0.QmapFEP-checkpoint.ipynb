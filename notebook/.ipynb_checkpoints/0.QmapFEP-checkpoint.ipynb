{
 "cells": [
  {
   "cell_type": "code",
   "execution_count": 1,
   "id": "03a7e792-e58b-4a12-a323-cc68d16eb08e",
   "metadata": {
    "tags": []
   },
   "outputs": [],
   "source": [
    "import networkx as nx\n",
    "import matplotlib.pyplot as plt\n",
    "from pyvis.network import Network\n",
    "\n",
    "# import Q modules\n",
    "import src\n",
    "from src.share import settings as s\n",
    "from src import QmapFEP\n",
    "\n",
    "import json\n",
    "\n",
    "from flask import request\n",
    "\n",
    "from flask import Flask, render_template\n",
    "\n",
    "app = Flask(__name__)"
   ]
  },
  {
   "cell_type": "code",
   "execution_count": 2,
   "id": "97ea41c3-9242-4ea7-8e97-aa641e519502",
   "metadata": {},
   "outputs": [
    {
     "name": "stdout",
     "output_type": "stream",
     "text": [
      "../data/QmapFEP/maps/CDK2_network.txt\n",
      "Number of edges: 22\n"
     ]
    },
    {
     "data": {
      "image/png": "[encoded data removed]",
      "text/plain": [
       "<Figure size 432x288 with 1 Axes>"
      ]
     },
     "metadata": {},
     "output_type": "display_data"
    },
    {
     "data": {
      "text/plain": [
       "<src.QmapFEP.Init at 0x7fd1f04417f0>"
      ]
     },
     "execution_count": 2,
     "metadata": {},
     "output_type": "execute_result"
    }
   ],
   "source": [
    "# input data for QmapFEP, similar to command line input\n",
    "data = {\n",
    "    \n",
    "    'isdf'   : '../data/benchmark/qligfep/sdf/CDK2_ligands.sdf',\n",
    "    'metric' : 'MFP',\n",
    "    'o'      : '../data/QmapFEP/maps/CDK2_network.txt'\n",
    "\n",
    "}\n",
    "QmapFEP.Init(data)"
   ]
  },
  {
   "cell_type": "code",
   "execution_count": 3,
   "id": "f0bec825-81f1-493e-a6a0-8eba5d3698fc",
   "metadata": {},
   "outputs": [
    {
     "data": {
      "text/html": [
       "\n",
       "        <iframe\n",
       "            width=\"750\"\n",
       "            height=\"750\"\n",
       "            src=\"nx.html\"\n",
       "            frameborder=\"0\"\n",
       "            allowfullscreen\n",
       "            \n",
       "        ></iframe>\n",
       "        "
      ],
      "text/plain": [
       "<IPython.lib.display.IFrame at 0x7fd1ac640790>"
      ]
     },
     "execution_count": 3,
     "metadata": {},
     "output_type": "execute_result"
    }
   ],
   "source": [
    "with open('../data/QmapFEP/maps/CDK2_network.txt') as infile:\n",
    "    G = nx.read_edgelist(infile)\n",
    "nt = Network(height='750',width='750',notebook=True)\n",
    "nt.from_nx(G)\n",
    "#nt.show_buttons(filter_=['physics','manipulation'])\n",
    "\n",
    "nt.show('nx.html')"
   ]
  },
  {
   "cell_type": "code",
   "execution_count": 4,
   "id": "945509d4-d443-4528-bd6d-103042069b87",
   "metadata": {},
   "outputs": [
    {
     "data": {
      "text/html": [
       "\n",
       "        <iframe\n",
       "            width=\"800\"\n",
       "            height=\"800\"\n",
       "            src=\"test.html\"\n",
       "            frameborder=\"0\"\n",
       "            allowfullscreen\n",
       "            \n",
       "        ></iframe>\n",
       "        "
      ],
      "text/plain": [
       "<IPython.lib.display.IFrame at 0x7fd1ae10bc10>"
      ]
     },
     "execution_count": 4,
     "metadata": {},
     "output_type": "execute_result"
    }
   ],
   "source": [
    "from IPython.display import IFrame\n",
    "\n",
    "IFrame(src='test.html', width=800, height=800)"
   ]
  },
  {
   "cell_type": "code",
   "execution_count": 16,
   "id": "596e7c86-55f4-4e5c-afbf-eb18d61845ea",
   "metadata": {},
   "outputs": [
    {
     "data": {
      "text/html": [
       "<div id=\"mynetwork\"></div>\n"
      ],
      "text/plain": [
       "<IPython.core.display.HTML object>"
      ]
     },
     "metadata": {},
     "output_type": "display_data"
    }
   ],
   "source": [
    "%%html\n",
    "<div id=\"mynetwork\"></div>"
   ]
  },
  {
   "cell_type": "code",
   "execution_count": 18,
   "id": "4212f914-451a-4160-847c-ba7c09addfdb",
   "metadata": {},
   "outputs": [
    {
     "data": {
      "application/javascript": [
       "requirejs.config({\n",
       "    paths: {\n",
       "        vis: 'vis'\n",
       "    }\n",
       "});\n",
       "\n",
       "require(['vis'], function(vis){\n",
       "    \n",
       "    var nodes = [\n",
       "        {id: 1, label: 'Beyonce', group: 'United States'},\n",
       "        {id: 2, label: 'Barak Obama', group: 'United States'},\n",
       "        {id: 3, label: 'Miley Cyrus', group: 'United States'},\n",
       "        {id: 4, label: 'Pope Francis', group: 'Vatican'},\n",
       "        {id: 5, label: 'Vladimir Putin', group: 'Rusia'}\n",
       "    ];\n",
       "\n",
       "    // create an array with edges\n",
       "    var edges = [\n",
       "        {from: 1, to: 2},\n",
       "        {from: 1, to: 3},\n",
       "        {from: 2, to: 4},\n",
       "        {from: 2, to: 5}\n",
       "    ];\n",
       "\n",
       "    // create a network\n",
       "    var container = document.getElementById('mynetwork');\n",
       "    var data= {\n",
       "        nodes: nodes,\n",
       "        edges: edges,\n",
       "    };\n",
       "    var options = {\n",
       "        width: '800px',\n",
       "        height: '400px'\n",
       "    };\n",
       "    \n",
       "    var network = new vis.Network(container, data, options);\n",
       "});\n"
      ],
      "text/plain": [
       "<IPython.core.display.Javascript object>"
      ]
     },
     "metadata": {},
     "output_type": "display_data"
    }
   ],
   "source": [
    "%%javascript\n",
    "requirejs.config({\n",
    "    paths: {\n",
    "        vis: 'vis'\n",
    "    }\n",
    "});\n",
    "\n",
    "require(['vis'], function(vis){\n",
    "    \n",
    "    var nodes = [\n",
    "        {id: 1, label: 'Beyonce', group: 'United States'},\n",
    "        {id: 2, label: 'Barak Obama', group: 'United States'},\n",
    "        {id: 3, label: 'Miley Cyrus', group: 'United States'},\n",
    "        {id: 4, label: 'Pope Francis', group: 'Vatican'},\n",
    "        {id: 5, label: 'Vladimir Putin', group: 'Rusia'}\n",
    "    ];\n",
    "\n",
    "    // create an array with edges\n",
    "    var edges = [\n",
    "        {from: 1, to: 2},\n",
    "        {from: 1, to: 3},\n",
    "        {from: 2, to: 4},\n",
    "        {from: 2, to: 5}\n",
    "    ];\n",
    "\n",
    "    // create a network\n",
    "    var container = document.getElementById('mynetwork');\n",
    "    var data= {\n",
    "        nodes: nodes,\n",
    "        edges: edges,\n",
    "    };\n",
    "    var options = {\n",
    "        width: '800px',\n",
    "        height: '400px'\n",
    "    };\n",
    "    \n",
    "    var network = new vis.Network(container, data, options);\n",
    "});"
   ]
  },
  {
   "cell_type": "code",
   "execution_count": 6,
   "id": "70212970-44b8-4009-b980-c40af0a9b068",
   "metadata": {},
   "outputs": [],
   "source": [
    "from IPython.core.display import display, HTML\n",
    "from string import Template\n",
    "import json\n",
    "from jupyter_require import require\n",
    "from jupyter_require import load_css"
   ]
  },
  {
   "cell_type": "code",
   "execution_count": 7,
   "id": "8157b099-179f-40d3-88cc-9200e0c3dec3",
   "metadata": {},
   "outputs": [],
   "source": [
    "%load_ext jupyter_require"
   ]
  },
  {
   "cell_type": "code",
   "execution_count": 21,
   "id": "e85f0e94-6341-4b72-b9ae-2421b8b89f87",
   "metadata": {},
   "outputs": [
    {
     "ename": "TypeError",
     "evalue": "object of type 'ellipsis' has no len()",
     "output_type": "error",
     "traceback": [
      "\u001b[0;31m---------------------------------------------------------------------------\u001b[0m",
      "\u001b[0;31mTypeError\u001b[0m                                 Traceback (most recent call last)",
      "\u001b[0;32m/tmp/ipykernel_17592/4068165432.py\u001b[0m in \u001b[0;36m<module>\u001b[0;34m\u001b[0m\n\u001b[1;32m      7\u001b[0m })\n\u001b[1;32m      8\u001b[0m \u001b[0;34m\u001b[0m\u001b[0m\n\u001b[0;32m----> 9\u001b[0;31m \u001b[0mload_css\u001b[0m\u001b[0;34m(\u001b[0m\u001b[0;34m...\u001b[0m\u001b[0;34m)\u001b[0m\u001b[0;34m\u001b[0m\u001b[0;34m\u001b[0m\u001b[0m\n\u001b[0m",
      "\u001b[0;32m~/miniconda3/envs/QmapFEP/lib/python3.9/site-packages/jupyter_require/notebook.py\u001b[0m in \u001b[0;36mload_css\u001b[0;34m(style, attrs, compress, **compressor_options)\u001b[0m\n\u001b[1;32m    109\u001b[0m \u001b[0;34m\u001b[0m\u001b[0m\n\u001b[1;32m    110\u001b[0m     \u001b[0;32mif\u001b[0m \u001b[0mcompress\u001b[0m\u001b[0;34m:\u001b[0m\u001b[0;34m\u001b[0m\u001b[0;34m\u001b[0m\u001b[0m\n\u001b[0;32m--> 111\u001b[0;31m         \u001b[0mstyle\u001b[0m \u001b[0;34m=\u001b[0m \u001b[0mcsscompressor\u001b[0m\u001b[0;34m.\u001b[0m\u001b[0mcompress\u001b[0m\u001b[0;34m(\u001b[0m\u001b[0mstyle\u001b[0m\u001b[0;34m,\u001b[0m \u001b[0;34m**\u001b[0m\u001b[0mcompressor_options\u001b[0m\u001b[0;34m)\u001b[0m\u001b[0;34m\u001b[0m\u001b[0;34m\u001b[0m\u001b[0m\n\u001b[0m\u001b[1;32m    112\u001b[0m \u001b[0;34m\u001b[0m\u001b[0m\n\u001b[1;32m    113\u001b[0m     \u001b[0;32mreturn\u001b[0m \u001b[0msafe_execute\u001b[0m\u001b[0;34m(\u001b[0m\u001b[0mscript\u001b[0m\u001b[0;34m,\u001b[0m \u001b[0mstyle\u001b[0m\u001b[0;34m=\u001b[0m\u001b[0mstyle\u001b[0m\u001b[0;34m,\u001b[0m \u001b[0mattrs\u001b[0m\u001b[0;34m=\u001b[0m\u001b[0mattrs\u001b[0m\u001b[0;34m)\u001b[0m\u001b[0;34m\u001b[0m\u001b[0;34m\u001b[0m\u001b[0m\n",
      "\u001b[0;32m~/miniconda3/envs/QmapFEP/lib/python3.9/site-packages/csscompressor/__init__.py\u001b[0m in \u001b[0;36mcompress\u001b[0;34m(css, max_linelen, preserve_exclamation_comments)\u001b[0m\n\u001b[1;32m    497\u001b[0m     \"\"\"\n\u001b[1;32m    498\u001b[0m \u001b[0;34m\u001b[0m\u001b[0m\n\u001b[0;32m--> 499\u001b[0;31m     \u001b[0mcss\u001b[0m\u001b[0;34m,\u001b[0m \u001b[0mpreserved_tokens\u001b[0m \u001b[0;34m=\u001b[0m \u001b[0m_compress\u001b[0m\u001b[0;34m(\u001b[0m\u001b[0mcss\u001b[0m\u001b[0;34m,\u001b[0m \u001b[0mmax_linelen\u001b[0m\u001b[0;34m=\u001b[0m\u001b[0mmax_linelen\u001b[0m\u001b[0;34m,\u001b[0m \u001b[0mpreserve_exclamation_comments\u001b[0m\u001b[0;34m=\u001b[0m\u001b[0mpreserve_exclamation_comments\u001b[0m\u001b[0;34m)\u001b[0m\u001b[0;34m\u001b[0m\u001b[0;34m\u001b[0m\u001b[0m\n\u001b[0m\u001b[1;32m    500\u001b[0m     \u001b[0mcss\u001b[0m \u001b[0;34m=\u001b[0m \u001b[0m_apply_preserved\u001b[0m\u001b[0;34m(\u001b[0m\u001b[0mcss\u001b[0m\u001b[0;34m,\u001b[0m \u001b[0mpreserved_tokens\u001b[0m\u001b[0;34m)\u001b[0m\u001b[0;34m\u001b[0m\u001b[0;34m\u001b[0m\u001b[0m\n\u001b[1;32m    501\u001b[0m     \u001b[0;32mreturn\u001b[0m \u001b[0mcss\u001b[0m\u001b[0;34m\u001b[0m\u001b[0;34m\u001b[0m\u001b[0m\n",
      "\u001b[0;32m~/miniconda3/envs/QmapFEP/lib/python3.9/site-packages/csscompressor/__init__.py\u001b[0m in \u001b[0;36m_compress\u001b[0;34m(css, max_linelen, preserve_exclamation_comments)\u001b[0m\n\u001b[1;32m    235\u001b[0m \u001b[0;32mdef\u001b[0m \u001b[0m_compress\u001b[0m\u001b[0;34m(\u001b[0m\u001b[0mcss\u001b[0m\u001b[0;34m,\u001b[0m \u001b[0mmax_linelen\u001b[0m\u001b[0;34m=\u001b[0m\u001b[0;36m0\u001b[0m\u001b[0;34m,\u001b[0m \u001b[0mpreserve_exclamation_comments\u001b[0m\u001b[0;34m=\u001b[0m\u001b[0;32mTrue\u001b[0m\u001b[0;34m)\u001b[0m\u001b[0;34m:\u001b[0m\u001b[0;34m\u001b[0m\u001b[0;34m\u001b[0m\u001b[0m\n\u001b[1;32m    236\u001b[0m     \u001b[0mstart_idx\u001b[0m \u001b[0;34m=\u001b[0m \u001b[0mend_idx\u001b[0m \u001b[0;34m=\u001b[0m \u001b[0;36m0\u001b[0m\u001b[0;34m\u001b[0m\u001b[0;34m\u001b[0m\u001b[0m\n\u001b[0;32m--> 237\u001b[0;31m     \u001b[0mtotal_len\u001b[0m \u001b[0;34m=\u001b[0m \u001b[0mlen\u001b[0m\u001b[0;34m(\u001b[0m\u001b[0mcss\u001b[0m\u001b[0;34m)\u001b[0m\u001b[0;34m\u001b[0m\u001b[0;34m\u001b[0m\u001b[0m\n\u001b[0m\u001b[1;32m    238\u001b[0m \u001b[0;34m\u001b[0m\u001b[0m\n\u001b[1;32m    239\u001b[0m     \u001b[0mpreserved_tokens\u001b[0m \u001b[0;34m=\u001b[0m \u001b[0;34m[\u001b[0m\u001b[0;34m]\u001b[0m\u001b[0;34m\u001b[0m\u001b[0;34m\u001b[0m\u001b[0m\n",
      "\u001b[0;31mTypeError\u001b[0m: object of type 'ellipsis' has no len()"
     ]
    }
   ],
   "source": [
    "from jupyter_require import require\n",
    "from jupyter_require import load_css\n",
    "\n",
    "require.config({\n",
    "  'd3': 'https://d3js.org/d3.v5.min',\n",
    "  'd3-hierarchy': 'https://d3js.org/d3-hierarchy.v1.min'\n",
    "})\n",
    "\n",
    "#load_css(...)"
   ]
  },
  {
   "cell_type": "code",
   "execution_count": 24,
   "id": "2ed2c32e-4f40-4766-810c-e54cc1ad6255",
   "metadata": {},
   "outputs": [],
   "source": [
    "from pathlib import Path\n",
    "from jupyter_require import execute_with_requirements\n",
    "\n",
    "script = Path('d3-simple-example.js').read_text()\n",
    "\n",
    "execute_with_requirements(script, required=['d3'])"
   ]
  },
  {
   "cell_type": "code",
   "execution_count": null,
   "id": "76d8d958-339a-4287-87fe-860a60009a0d",
   "metadata": {},
   "outputs": [],
   "source": []
  }
 ],
 "metadata": {
  "kernelspec": {
   "display_name": "Python 3 (ipykernel)",
   "language": "python",
   "name": "python3"
  },
  "language_info": {
   "codemirror_mode": {
    "name": "ipython",
    "version": 3
   },
   "file_extension": ".py",
   "mimetype": "text/x-python",
   "name": "python",
   "nbconvert_exporter": "python",
   "pygments_lexer": "ipython3",
   "version": "3.9.5"
  }
 },
 "nbformat": 4,
 "nbformat_minor": 5
}
