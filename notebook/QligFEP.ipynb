{
 "cells": [
  {
   "cell_type": "code",
   "execution_count": 5,
   "id": "c0a4d1f9-9e5b-4244-99aa-49b10c1e5e6a",
   "metadata": {},
   "outputs": [],
   "source": [
    "import os\n",
    "import sys\n",
    "from pathlib import Path\n",
    "\n",
    "sys.path.insert(0, os.path.abspath(os.path.join((Path(_dh[-1])), '../src/')))\n",
    "sys.path.insert(0, os.path.abspath(os.path.join((Path(_dh[-1])), '../env/')))\n",
    "sys.path.insert(0, os.path.abspath(os.path.join((Path(_dh[-1])), '../qligfep-old/')))\n",
    "\n",
    "import QligFEPold\n",
    "from env import settings"
   ]
  },
  {
   "cell_type": "code",
   "execution_count": 12,
   "id": "524376ea-86f5-4115-93fa-b9c145ac5203",
   "metadata": {},
   "outputs": [
    {
     "name": "stdout",
     "output_type": "stream",
     "text": [
      "/home/willem/software/Q/benchmark/FEP_ligand_binding/1.Q5/1.protein/FEP_1h1q-28/inputfiles/\n"
     ]
    }
   ],
   "source": [
    "datadir = settings.ROOT + 'benchmark/FEP_ligand_binding/1.Q5/1.protein/FEP_1h1q-28/inputfiles/'\n",
    "print(datadir)"
   ]
  },
  {
   "cell_type": "code",
   "execution_count": 20,
   "id": "e3f9d6c8-8b1c-4ce4-941a-b99b525d7fb1",
   "metadata": {},
   "outputs": [
    {
     "ename": "TypeError",
     "evalue": "__init__() missing 11 required positional arguments: 'lig1', 'lig2', 'FF', 'system', 'cluster', 'sphereradius', 'cysbond', 'start', 'temperature', 'replicates', and 'sampling'",
     "output_type": "error",
     "traceback": [
      "\u001b[0;31m---------------------------------------------------------------------------\u001b[0m",
      "\u001b[0;31mTypeError\u001b[0m                                 Traceback (most recent call last)",
      "\u001b[0;32m/tmp/ipykernel_8376/3421406463.py\u001b[0m in \u001b[0;36m<module>\u001b[0;34m\u001b[0m\n\u001b[0;32m----> 1\u001b[0;31m \u001b[0mQligFEPold\u001b[0m\u001b[0;34m.\u001b[0m\u001b[0mRun\u001b[0m\u001b[0;34m(\u001b[0m\u001b[0;34m)\u001b[0m\u001b[0;34m\u001b[0m\u001b[0;34m\u001b[0m\u001b[0m\n\u001b[0m",
      "\u001b[0;31mTypeError\u001b[0m: __init__() missing 11 required positional arguments: 'lig1', 'lig2', 'FF', 'system', 'cluster', 'sphereradius', 'cysbond', 'start', 'temperature', 'replicates', and 'sampling'"
     ]
    }
   ],
   "source": [
    "QligFEPold.Run(\n",
    "'lig1'='{}/', \n",
    "'lig2', \n",
    "'FF', \n",
    "'system', \n",
    "'cluster', \n",
    "'sphereradius', \n",
    "'cysbond', \n",
    "'start', \n",
    "'temperature', \n",
    "'replicates',\n",
    "'sampling' \n",
    ")"
   ]
  },
  {
   "cell_type": "code",
   "execution_count": null,
   "id": "e4fcc27a-ae4f-44b2-874e-a07a4fc77452",
   "metadata": {},
   "outputs": [],
   "source": []
  }
 ],
 "metadata": {
  "kernelspec": {
   "display_name": "Python 3 (ipykernel)",
   "language": "python",
   "name": "python3"
  },
  "language_info": {
   "codemirror_mode": {
    "name": "ipython",
    "version": 3
   },
   "file_extension": ".py",
   "mimetype": "text/x-python",
   "name": "python",
   "nbconvert_exporter": "python",
   "pygments_lexer": "ipython3",
   "version": "3.9.5"
  }
 },
 "nbformat": 4,
 "nbformat_minor": 5
}
